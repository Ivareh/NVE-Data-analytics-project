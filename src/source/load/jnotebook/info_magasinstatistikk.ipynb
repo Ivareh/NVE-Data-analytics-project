{
 "cells": [
  {
   "cell_type": "markdown",
   "metadata": {},
   "source": [
    "Playground to retrieve Magasinstatistikk and transform object data into sql table format"
   ]
  },
  {
   "cell_type": "code",
   "execution_count": 26,
   "metadata": {},
   "outputs": [],
   "source": [
    "import requests\n",
    "import pandas as pd"
   ]
  },
  {
   "cell_type": "code",
   "execution_count": 27,
   "metadata": {},
   "outputs": [],
   "source": [
    "r = requests.get(\"https://biapi.nve.no/magasinstatistikk/api/Magasinstatistikk/HentOffentligData\")"
   ]
  },
  {
   "cell_type": "code",
   "execution_count": 28,
   "metadata": {},
   "outputs": [
    {
     "data": {
      "text/html": [
       "<div>\n",
       "<style scoped>\n",
       "    .dataframe tbody tr th:only-of-type {\n",
       "        vertical-align: middle;\n",
       "    }\n",
       "\n",
       "    .dataframe tbody tr th {\n",
       "        vertical-align: top;\n",
       "    }\n",
       "\n",
       "    .dataframe thead th {\n",
       "        text-align: right;\n",
       "    }\n",
       "</style>\n",
       "<table border=\"1\" class=\"dataframe\">\n",
       "  <thead>\n",
       "    <tr style=\"text-align: right;\">\n",
       "      <th></th>\n",
       "      <th>dato_Id</th>\n",
       "      <th>omrType</th>\n",
       "      <th>omrnr</th>\n",
       "      <th>iso_aar</th>\n",
       "      <th>maaling_uke</th>\n",
       "      <th>fyllingsgrad</th>\n",
       "      <th>kapasitet_TWh</th>\n",
       "      <th>fylling_TWh</th>\n",
       "      <th>neste_Publiseringsdato</th>\n",
       "      <th>fyllingsgrad_forrige_uke</th>\n",
       "      <th>endring_fyllingsgrad</th>\n",
       "    </tr>\n",
       "  </thead>\n",
       "  <tbody>\n",
       "    <tr>\n",
       "      <th>0</th>\n",
       "      <td>2007-03-04</td>\n",
       "      <td>EL</td>\n",
       "      <td>5</td>\n",
       "      <td>2007</td>\n",
       "      <td>9</td>\n",
       "      <td>0.416593</td>\n",
       "      <td>17.425789</td>\n",
       "      <td>7.259468</td>\n",
       "      <td>0001-01-01T00:00:00</td>\n",
       "      <td>0.450818</td>\n",
       "      <td>-0.034225</td>\n",
       "    </tr>\n",
       "    <tr>\n",
       "      <th>1</th>\n",
       "      <td>2015-02-08</td>\n",
       "      <td>EL</td>\n",
       "      <td>5</td>\n",
       "      <td>2015</td>\n",
       "      <td>6</td>\n",
       "      <td>0.485430</td>\n",
       "      <td>17.425789</td>\n",
       "      <td>8.458999</td>\n",
       "      <td>0001-01-01T00:00:00</td>\n",
       "      <td>0.527302</td>\n",
       "      <td>-0.041872</td>\n",
       "    </tr>\n",
       "    <tr>\n",
       "      <th>2</th>\n",
       "      <td>2005-09-11</td>\n",
       "      <td>EL</td>\n",
       "      <td>5</td>\n",
       "      <td>2005</td>\n",
       "      <td>36</td>\n",
       "      <td>0.875464</td>\n",
       "      <td>17.425789</td>\n",
       "      <td>15.255660</td>\n",
       "      <td>0001-01-01T00:00:00</td>\n",
       "      <td>0.858146</td>\n",
       "      <td>0.017319</td>\n",
       "    </tr>\n",
       "    <tr>\n",
       "      <th>3</th>\n",
       "      <td>2009-02-22</td>\n",
       "      <td>EL</td>\n",
       "      <td>5</td>\n",
       "      <td>2009</td>\n",
       "      <td>8</td>\n",
       "      <td>0.391005</td>\n",
       "      <td>17.425789</td>\n",
       "      <td>6.813575</td>\n",
       "      <td>0001-01-01T00:00:00</td>\n",
       "      <td>0.425169</td>\n",
       "      <td>-0.034164</td>\n",
       "    </tr>\n",
       "    <tr>\n",
       "      <th>4</th>\n",
       "      <td>1995-05-07</td>\n",
       "      <td>EL</td>\n",
       "      <td>5</td>\n",
       "      <td>1995</td>\n",
       "      <td>18</td>\n",
       "      <td>0.172278</td>\n",
       "      <td>17.425789</td>\n",
       "      <td>3.002083</td>\n",
       "      <td>0001-01-01T00:00:00</td>\n",
       "      <td>0.175498</td>\n",
       "      <td>-0.003219</td>\n",
       "    </tr>\n",
       "    <tr>\n",
       "      <th>5</th>\n",
       "      <td>2015-02-15</td>\n",
       "      <td>EL</td>\n",
       "      <td>5</td>\n",
       "      <td>2015</td>\n",
       "      <td>7</td>\n",
       "      <td>0.448829</td>\n",
       "      <td>17.425789</td>\n",
       "      <td>7.821195</td>\n",
       "      <td>0001-01-01T00:00:00</td>\n",
       "      <td>0.485430</td>\n",
       "      <td>-0.036601</td>\n",
       "    </tr>\n",
       "    <tr>\n",
       "      <th>6</th>\n",
       "      <td>2018-06-24</td>\n",
       "      <td>EL</td>\n",
       "      <td>5</td>\n",
       "      <td>2018</td>\n",
       "      <td>25</td>\n",
       "      <td>0.616334</td>\n",
       "      <td>17.425789</td>\n",
       "      <td>10.740099</td>\n",
       "      <td>0001-01-01T00:00:00</td>\n",
       "      <td>0.594844</td>\n",
       "      <td>0.021490</td>\n",
       "    </tr>\n",
       "    <tr>\n",
       "      <th>7</th>\n",
       "      <td>2016-05-15</td>\n",
       "      <td>EL</td>\n",
       "      <td>5</td>\n",
       "      <td>2016</td>\n",
       "      <td>19</td>\n",
       "      <td>0.199593</td>\n",
       "      <td>17.425789</td>\n",
       "      <td>3.478064</td>\n",
       "      <td>0001-01-01T00:00:00</td>\n",
       "      <td>0.186847</td>\n",
       "      <td>0.012746</td>\n",
       "    </tr>\n",
       "    <tr>\n",
       "      <th>8</th>\n",
       "      <td>2018-02-18</td>\n",
       "      <td>EL</td>\n",
       "      <td>1</td>\n",
       "      <td>2018</td>\n",
       "      <td>7</td>\n",
       "      <td>0.326806</td>\n",
       "      <td>6.003510</td>\n",
       "      <td>1.961980</td>\n",
       "      <td>0001-01-01T00:00:00</td>\n",
       "      <td>0.367796</td>\n",
       "      <td>-0.040991</td>\n",
       "    </tr>\n",
       "    <tr>\n",
       "      <th>9</th>\n",
       "      <td>2004-10-24</td>\n",
       "      <td>EL</td>\n",
       "      <td>5</td>\n",
       "      <td>2004</td>\n",
       "      <td>43</td>\n",
       "      <td>0.804338</td>\n",
       "      <td>17.425789</td>\n",
       "      <td>14.016221</td>\n",
       "      <td>0001-01-01T00:00:00</td>\n",
       "      <td>0.816523</td>\n",
       "      <td>-0.012185</td>\n",
       "    </tr>\n",
       "    <tr>\n",
       "      <th>10</th>\n",
       "      <td>2003-09-14</td>\n",
       "      <td>EL</td>\n",
       "      <td>1</td>\n",
       "      <td>2003</td>\n",
       "      <td>37</td>\n",
       "      <td>0.810159</td>\n",
       "      <td>6.003510</td>\n",
       "      <td>4.863800</td>\n",
       "      <td>0001-01-01T00:00:00</td>\n",
       "      <td>0.806568</td>\n",
       "      <td>0.003591</td>\n",
       "    </tr>\n",
       "    <tr>\n",
       "      <th>11</th>\n",
       "      <td>2004-08-15</td>\n",
       "      <td>EL</td>\n",
       "      <td>5</td>\n",
       "      <td>2004</td>\n",
       "      <td>33</td>\n",
       "      <td>0.707534</td>\n",
       "      <td>17.425789</td>\n",
       "      <td>12.329340</td>\n",
       "      <td>0001-01-01T00:00:00</td>\n",
       "      <td>0.702227</td>\n",
       "      <td>0.005307</td>\n",
       "    </tr>\n",
       "    <tr>\n",
       "      <th>12</th>\n",
       "      <td>2022-09-18</td>\n",
       "      <td>EL</td>\n",
       "      <td>5</td>\n",
       "      <td>2022</td>\n",
       "      <td>37</td>\n",
       "      <td>0.702150</td>\n",
       "      <td>17.425789</td>\n",
       "      <td>12.235518</td>\n",
       "      <td>2022-09-28T13:00:00</td>\n",
       "      <td>0.689263</td>\n",
       "      <td>0.012887</td>\n",
       "    </tr>\n",
       "    <tr>\n",
       "      <th>13</th>\n",
       "      <td>2004-03-28</td>\n",
       "      <td>EL</td>\n",
       "      <td>1</td>\n",
       "      <td>2004</td>\n",
       "      <td>13</td>\n",
       "      <td>0.100599</td>\n",
       "      <td>6.003510</td>\n",
       "      <td>0.603947</td>\n",
       "      <td>0001-01-01T00:00:00</td>\n",
       "      <td>0.128609</td>\n",
       "      <td>-0.028010</td>\n",
       "    </tr>\n",
       "    <tr>\n",
       "      <th>14</th>\n",
       "      <td>1997-01-05</td>\n",
       "      <td>EL</td>\n",
       "      <td>5</td>\n",
       "      <td>1997</td>\n",
       "      <td>1</td>\n",
       "      <td>0.490373</td>\n",
       "      <td>17.425789</td>\n",
       "      <td>8.545136</td>\n",
       "      <td>0001-01-01T00:00:00</td>\n",
       "      <td>0.517882</td>\n",
       "      <td>-0.027509</td>\n",
       "    </tr>\n",
       "    <tr>\n",
       "      <th>15</th>\n",
       "      <td>1995-11-12</td>\n",
       "      <td>EL</td>\n",
       "      <td>5</td>\n",
       "      <td>1995</td>\n",
       "      <td>45</td>\n",
       "      <td>0.927555</td>\n",
       "      <td>17.425789</td>\n",
       "      <td>16.163385</td>\n",
       "      <td>0001-01-01T00:00:00</td>\n",
       "      <td>0.954474</td>\n",
       "      <td>-0.026919</td>\n",
       "    </tr>\n",
       "    <tr>\n",
       "      <th>16</th>\n",
       "      <td>2011-10-16</td>\n",
       "      <td>EL</td>\n",
       "      <td>1</td>\n",
       "      <td>2011</td>\n",
       "      <td>41</td>\n",
       "      <td>0.918303</td>\n",
       "      <td>6.003510</td>\n",
       "      <td>5.513038</td>\n",
       "      <td>0001-01-01T00:00:00</td>\n",
       "      <td>0.940101</td>\n",
       "      <td>-0.021798</td>\n",
       "    </tr>\n",
       "    <tr>\n",
       "      <th>17</th>\n",
       "      <td>2012-01-22</td>\n",
       "      <td>EL</td>\n",
       "      <td>1</td>\n",
       "      <td>2012</td>\n",
       "      <td>3</td>\n",
       "      <td>0.621718</td>\n",
       "      <td>6.003510</td>\n",
       "      <td>3.732488</td>\n",
       "      <td>0001-01-01T00:00:00</td>\n",
       "      <td>0.665160</td>\n",
       "      <td>-0.043443</td>\n",
       "    </tr>\n",
       "    <tr>\n",
       "      <th>18</th>\n",
       "      <td>2012-12-02</td>\n",
       "      <td>EL</td>\n",
       "      <td>5</td>\n",
       "      <td>2012</td>\n",
       "      <td>48</td>\n",
       "      <td>0.770100</td>\n",
       "      <td>17.425789</td>\n",
       "      <td>13.419601</td>\n",
       "      <td>0001-01-01T00:00:00</td>\n",
       "      <td>0.802848</td>\n",
       "      <td>-0.032748</td>\n",
       "    </tr>\n",
       "    <tr>\n",
       "      <th>19</th>\n",
       "      <td>2023-11-26</td>\n",
       "      <td>EL</td>\n",
       "      <td>5</td>\n",
       "      <td>2023</td>\n",
       "      <td>47</td>\n",
       "      <td>0.776956</td>\n",
       "      <td>17.425789</td>\n",
       "      <td>13.539070</td>\n",
       "      <td>2023-12-06T13:00:00</td>\n",
       "      <td>0.805790</td>\n",
       "      <td>-0.028834</td>\n",
       "    </tr>\n",
       "  </tbody>\n",
       "</table>\n",
       "</div>"
      ],
      "text/plain": [
       "       dato_Id omrType  omrnr  iso_aar  maaling_uke  fyllingsgrad  kapasitet_TWh  \\\n",
       "0   2007-03-04      EL      5     2007        9      0.416593      17.425789   \n",
       "1   2015-02-08      EL      5     2015        6      0.485430      17.425789   \n",
       "2   2005-09-11      EL      5     2005       36      0.875464      17.425789   \n",
       "3   2009-02-22      EL      5     2009        8      0.391005      17.425789   \n",
       "4   1995-05-07      EL      5     1995       18      0.172278      17.425789   \n",
       "5   2015-02-15      EL      5     2015        7      0.448829      17.425789   \n",
       "6   2018-06-24      EL      5     2018       25      0.616334      17.425789   \n",
       "7   2016-05-15      EL      5     2016       19      0.199593      17.425789   \n",
       "8   2018-02-18      EL      1     2018        7      0.326806       6.003510   \n",
       "9   2004-10-24      EL      5     2004       43      0.804338      17.425789   \n",
       "10  2003-09-14      EL      1     2003       37      0.810159       6.003510   \n",
       "11  2004-08-15      EL      5     2004       33      0.707534      17.425789   \n",
       "12  2022-09-18      EL      5     2022       37      0.702150      17.425789   \n",
       "13  2004-03-28      EL      1     2004       13      0.100599       6.003510   \n",
       "14  1997-01-05      EL      5     1997        1      0.490373      17.425789   \n",
       "15  1995-11-12      EL      5     1995       45      0.927555      17.425789   \n",
       "16  2011-10-16      EL      1     2011       41      0.918303       6.003510   \n",
       "17  2012-01-22      EL      1     2012        3      0.621718       6.003510   \n",
       "18  2012-12-02      EL      5     2012       48      0.770100      17.425789   \n",
       "19  2023-11-26      EL      5     2023       47      0.776956      17.425789   \n",
       "\n",
       "    fylling_TWh neste_Publiseringsdato  fyllingsgrad_forrige_uke  \\\n",
       "0      7.259468    0001-01-01T00:00:00                  0.450818   \n",
       "1      8.458999    0001-01-01T00:00:00                  0.527302   \n",
       "2     15.255660    0001-01-01T00:00:00                  0.858146   \n",
       "3      6.813575    0001-01-01T00:00:00                  0.425169   \n",
       "4      3.002083    0001-01-01T00:00:00                  0.175498   \n",
       "5      7.821195    0001-01-01T00:00:00                  0.485430   \n",
       "6     10.740099    0001-01-01T00:00:00                  0.594844   \n",
       "7      3.478064    0001-01-01T00:00:00                  0.186847   \n",
       "8      1.961980    0001-01-01T00:00:00                  0.367796   \n",
       "9     14.016221    0001-01-01T00:00:00                  0.816523   \n",
       "10     4.863800    0001-01-01T00:00:00                  0.806568   \n",
       "11    12.329340    0001-01-01T00:00:00                  0.702227   \n",
       "12    12.235518    2022-09-28T13:00:00                  0.689263   \n",
       "13     0.603947    0001-01-01T00:00:00                  0.128609   \n",
       "14     8.545136    0001-01-01T00:00:00                  0.517882   \n",
       "15    16.163385    0001-01-01T00:00:00                  0.954474   \n",
       "16     5.513038    0001-01-01T00:00:00                  0.940101   \n",
       "17     3.732488    0001-01-01T00:00:00                  0.665160   \n",
       "18    13.419601    0001-01-01T00:00:00                  0.802848   \n",
       "19    13.539070    2023-12-06T13:00:00                  0.805790   \n",
       "\n",
       "    endring_fyllingsgrad  \n",
       "0              -0.034225  \n",
       "1              -0.041872  \n",
       "2               0.017319  \n",
       "3              -0.034164  \n",
       "4              -0.003219  \n",
       "5              -0.036601  \n",
       "6               0.021490  \n",
       "7               0.012746  \n",
       "8              -0.040991  \n",
       "9              -0.012185  \n",
       "10              0.003591  \n",
       "11              0.005307  \n",
       "12              0.012887  \n",
       "13             -0.028010  \n",
       "14             -0.027509  \n",
       "15             -0.026919  \n",
       "16             -0.021798  \n",
       "17             -0.043443  \n",
       "18             -0.032748  \n",
       "19             -0.028834  "
      ]
     },
     "execution_count": 28,
     "metadata": {},
     "output_type": "execute_result"
    }
   ],
   "source": [
    "r_body = r.json()\n",
    "df = pd.DataFrame(r_body)\n",
    "df.head(20)"
   ]
  },
  {
   "cell_type": "code",
   "execution_count": 29,
   "metadata": {},
   "outputs": [
    {
     "data": {
      "text/plain": [
       "(14139, 11)"
      ]
     },
     "execution_count": 29,
     "metadata": {},
     "output_type": "execute_result"
    }
   ],
   "source": [
    "df.shape"
   ]
  },
  {
   "cell_type": "code",
   "execution_count": 30,
   "metadata": {},
   "outputs": [
    {
     "data": {
      "text/plain": [
       "Index(['dato_Id', 'omrType', 'omrnr', 'iso_aar', 'maaling_uke', 'fyllingsgrad',\n",
       "       'kapasitet_TWh', 'fylling_TWh', 'neste_Publiseringsdato',\n",
       "       'fyllingsgrad_forrige_uke', 'endring_fyllingsgrad'],\n",
       "      dtype='object')"
      ]
     },
     "execution_count": 30,
     "metadata": {},
     "output_type": "execute_result"
    }
   ],
   "source": [
    "df.columns"
   ]
  },
  {
   "cell_type": "code",
   "execution_count": 31,
   "metadata": {},
   "outputs": [
    {
     "data": {
      "text/plain": [
       "dato_Id                      object\n",
       "omrType                      object\n",
       "omrnr                         int64\n",
       "iso_aar                       int64\n",
       "maaling_uke                       int64\n",
       "fyllingsgrad                float64\n",
       "kapasitet_TWh               float64\n",
       "fylling_TWh                 float64\n",
       "neste_Publiseringsdato       object\n",
       "fyllingsgrad_forrige_uke    float64\n",
       "endring_fyllingsgrad        float64\n",
       "dtype: object"
      ]
     },
     "execution_count": 31,
     "metadata": {},
     "output_type": "execute_result"
    }
   ],
   "source": [
    "df.dtypes"
   ]
  },
  {
   "cell_type": "code",
   "execution_count": 32,
   "metadata": {},
   "outputs": [
    {
     "data": {
      "text/html": [
       "<div>\n",
       "<style scoped>\n",
       "    .dataframe tbody tr th:only-of-type {\n",
       "        vertical-align: middle;\n",
       "    }\n",
       "\n",
       "    .dataframe tbody tr th {\n",
       "        vertical-align: top;\n",
       "    }\n",
       "\n",
       "    .dataframe thead th {\n",
       "        text-align: right;\n",
       "    }\n",
       "</style>\n",
       "<table border=\"1\" class=\"dataframe\">\n",
       "  <thead>\n",
       "    <tr style=\"text-align: right;\">\n",
       "      <th></th>\n",
       "      <th>dato_Id</th>\n",
       "      <th>omrType</th>\n",
       "      <th>omrnr</th>\n",
       "      <th>iso_aar</th>\n",
       "      <th>maaling_uke</th>\n",
       "      <th>fyllingsgrad</th>\n",
       "      <th>kapasitet_TWh</th>\n",
       "      <th>fylling_TWh</th>\n",
       "      <th>neste_Publiseringsdato</th>\n",
       "      <th>fyllingsgrad_forrige_uke</th>\n",
       "      <th>endring_fyllingsgrad</th>\n",
       "    </tr>\n",
       "  </thead>\n",
       "  <tbody>\n",
       "    <tr>\n",
       "      <th>0</th>\n",
       "      <td>2007-03-04</td>\n",
       "      <td>EL</td>\n",
       "      <td>5</td>\n",
       "      <td>2007</td>\n",
       "      <td>9</td>\n",
       "      <td>0.416593</td>\n",
       "      <td>17.425789</td>\n",
       "      <td>7.259468</td>\n",
       "      <td>0001-01-01T00:00:00</td>\n",
       "      <td>0.450818</td>\n",
       "      <td>-0.034225</td>\n",
       "    </tr>\n",
       "    <tr>\n",
       "      <th>1</th>\n",
       "      <td>2015-02-08</td>\n",
       "      <td>EL</td>\n",
       "      <td>5</td>\n",
       "      <td>2015</td>\n",
       "      <td>6</td>\n",
       "      <td>0.485430</td>\n",
       "      <td>17.425789</td>\n",
       "      <td>8.458999</td>\n",
       "      <td>0001-01-01T00:00:00</td>\n",
       "      <td>0.527302</td>\n",
       "      <td>-0.041872</td>\n",
       "    </tr>\n",
       "    <tr>\n",
       "      <th>2</th>\n",
       "      <td>2005-09-11</td>\n",
       "      <td>EL</td>\n",
       "      <td>5</td>\n",
       "      <td>2005</td>\n",
       "      <td>36</td>\n",
       "      <td>0.875464</td>\n",
       "      <td>17.425789</td>\n",
       "      <td>15.255660</td>\n",
       "      <td>0001-01-01T00:00:00</td>\n",
       "      <td>0.858146</td>\n",
       "      <td>0.017319</td>\n",
       "    </tr>\n",
       "    <tr>\n",
       "      <th>3</th>\n",
       "      <td>2009-02-22</td>\n",
       "      <td>EL</td>\n",
       "      <td>5</td>\n",
       "      <td>2009</td>\n",
       "      <td>8</td>\n",
       "      <td>0.391005</td>\n",
       "      <td>17.425789</td>\n",
       "      <td>6.813575</td>\n",
       "      <td>0001-01-01T00:00:00</td>\n",
       "      <td>0.425169</td>\n",
       "      <td>-0.034164</td>\n",
       "    </tr>\n",
       "    <tr>\n",
       "      <th>4</th>\n",
       "      <td>1995-05-07</td>\n",
       "      <td>EL</td>\n",
       "      <td>5</td>\n",
       "      <td>1995</td>\n",
       "      <td>18</td>\n",
       "      <td>0.172278</td>\n",
       "      <td>17.425789</td>\n",
       "      <td>3.002083</td>\n",
       "      <td>0001-01-01T00:00:00</td>\n",
       "      <td>0.175498</td>\n",
       "      <td>-0.003219</td>\n",
       "    </tr>\n",
       "  </tbody>\n",
       "</table>\n",
       "</div>"
      ],
      "text/plain": [
       "      dato_Id omrType  omrnr  iso_aar  maaling_uke  fyllingsgrad  kapasitet_TWh  \\\n",
       "0  2007-03-04      EL      5     2007        9      0.416593      17.425789   \n",
       "1  2015-02-08      EL      5     2015        6      0.485430      17.425789   \n",
       "2  2005-09-11      EL      5     2005       36      0.875464      17.425789   \n",
       "3  2009-02-22      EL      5     2009        8      0.391005      17.425789   \n",
       "4  1995-05-07      EL      5     1995       18      0.172278      17.425789   \n",
       "\n",
       "   fylling_TWh neste_Publiseringsdato  fyllingsgrad_forrige_uke  \\\n",
       "0     7.259468    0001-01-01T00:00:00                  0.450818   \n",
       "1     8.458999    0001-01-01T00:00:00                  0.527302   \n",
       "2    15.255660    0001-01-01T00:00:00                  0.858146   \n",
       "3     6.813575    0001-01-01T00:00:00                  0.425169   \n",
       "4     3.002083    0001-01-01T00:00:00                  0.175498   \n",
       "\n",
       "   endring_fyllingsgrad  \n",
       "0             -0.034225  \n",
       "1             -0.041872  \n",
       "2              0.017319  \n",
       "3             -0.034164  \n",
       "4             -0.003219  "
      ]
     },
     "execution_count": 32,
     "metadata": {},
     "output_type": "execute_result"
    }
   ],
   "source": [
    "df.head()"
   ]
  },
  {
   "cell_type": "code",
   "execution_count": 33,
   "metadata": {},
   "outputs": [
    {
     "data": {
      "text/plain": [
       "array([1995, 1996, 1997, 1998, 1999, 2000, 2001, 2002, 2003, 2004, 2005,\n",
       "       2006, 2007, 2008, 2009, 2010, 2011, 2012, 2013, 2014, 2015, 2016,\n",
       "       2017, 2018, 2019, 2020, 2021, 2022, 2023, 2024, 2025])"
      ]
     },
     "execution_count": 33,
     "metadata": {},
     "output_type": "execute_result"
    }
   ],
   "source": [
    "# Years in dataset\n",
    "\n",
    "df['iso_aar'].sort_values().unique()"
   ]
  },
  {
   "cell_type": "code",
   "execution_count": null,
   "metadata": {},
   "outputs": [
    {
     "data": {
      "text/plain": [
       "array(['EL', 'NO', 'VASS'], dtype=object)"
      ]
     },
     "execution_count": 34,
     "metadata": {},
     "output_type": "execute_result"
    }
   ],
   "source": [
    "df['omrType'].sort_values().unique()"
   ]
  },
  {
   "cell_type": "code",
   "execution_count": 35,
   "metadata": {},
   "outputs": [
    {
     "data": {
      "text/plain": [
       "omrType\n",
       "EL      0.615916\n",
       "NO      0.623491\n",
       "VASS    0.625474\n",
       "Name: fyllingsgrad, dtype: float64"
      ]
     },
     "execution_count": 35,
     "metadata": {},
     "output_type": "execute_result"
    }
   ],
   "source": [
    "df.groupby(['omrType'])['fyllingsgrad'].mean()"
   ]
  },
  {
   "cell_type": "code",
   "execution_count": 36,
   "metadata": {},
   "outputs": [
    {
     "data": {
      "text/plain": [
       "Text(0, 0.5, 'fyllingsgrad')"
      ]
     },
     "execution_count": 36,
     "metadata": {},
     "output_type": "execute_result"
    },
    {
     "data": {
      "image/png": "[encoded data removed]",
      "text/plain": [
       "<Figure size 640x480 with 1 Axes>"
      ]
     },
     "metadata": {},
     "output_type": "display_data"
    }
   ],
   "source": [
    "ax = (df\n",
    ".groupby(['maaling_uke'])['fyllingsgrad']\n",
    ".mean()\n",
    ".plot(kind='bar', colormap=\"jet\", title=\"Gjennomsnittlig fyllingsgrad per uke\", rot=0)\n",
    ")\n",
    "\n",
    "ax.set_xlabel(\"maaling_uke\")\n",
    "ax.set_ylabel(\"fyllingsgrad\")\n"
   ]
  },
  {
   "cell_type": "code",
   "execution_count": 37,
   "metadata": {},
   "outputs": [
    {
     "data": {
      "text/plain": [
       "<Axes: xlabel='maaling_uke', ylabel='fyllingsgrad'>"
      ]
     },
     "execution_count": 37,
     "metadata": {},
     "output_type": "execute_result"
    },
    {
     "data": {
      "image/png": "[encoded data removed]",
      "text/plain": [
       "<Figure size 640x480 with 1 Axes>"
      ]
     },
     "metadata": {},
     "output_type": "display_data"
    }
   ],
   "source": [
    "df.plot.scatter(x='maaling_uke', y='fyllingsgrad', s=5)"
   ]
  },
  {
   "cell_type": "code",
   "execution_count": 38,
   "metadata": {},
   "outputs": [
    {
     "data": {
      "text/plain": [
       "<Axes: >"
      ]
     },
     "execution_count": 38,
     "metadata": {},
     "output_type": "execute_result"
    },
    {
     "data": {
      "image/png": "[encoded data removed]",
      "text/plain": [
       "<Figure size 640x480 with 1 Axes>"
      ]
     },
     "metadata": {},
     "output_type": "display_data"
    }
   ],
   "source": [
    "df.plot.box(x='dato_Id', y='fyllingsgrad')"
   ]
  },
  {
   "cell_type": "code",
   "execution_count": null,
   "metadata": {},
   "outputs": [],
   "source": []
  },
  {
   "cell_type": "markdown",
   "metadata": {},
   "source": [
    "### Min Max Median Model"
   ]
  },
  {
   "cell_type": "code",
   "execution_count": 39,
   "metadata": {},
   "outputs": [],
   "source": [
    "r = requests.get(\"https://biapi.nve.no/magasinstatistikk/api/Magasinstatistikk/HentOffentligData\")"
   ]
  }
 ],
 "metadata": {
  "kernelspec": {
   "display_name": "venv",
   "language": "python",
   "name": "python3"
  },
  "language_info": {
   "codemirror_mode": {
    "name": "ipython",
    "version": 3
   },
   "file_extension": ".py",
   "mimetype": "text/x-python",
   "name": "python",
   "nbconvert_exporter": "python",
   "pygments_lexer": "ipython3",
   "version": "3.11.11"
  }
 },
 "nbformat": 4,
 "nbformat_minor": 2
}
